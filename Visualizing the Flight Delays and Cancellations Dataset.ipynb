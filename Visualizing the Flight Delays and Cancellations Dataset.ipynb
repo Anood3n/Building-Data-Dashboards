{
 "cells": [
  {
   "cell_type": "markdown",
   "metadata": {},
   "source": [
    "## Visualizing the Flight Delays and Cancellations Dataset"
   ]
  },
  {
   "cell_type": "code",
   "execution_count": 1,
   "metadata": {},
   "outputs": [
    {
     "data": {
      "text/html": [
       "\n",
       "<div class='tableauPlaceholder' id='viz1571069617714' style='position: relative'><noscript><a href='#'><img alt=' ' src='https:&#47;&#47;public.tableau.com&#47;static&#47;images&#47;AL&#47;ALAnoodALHenaki-FlightDelays&#47;Story1&#47;1_rss.png' style='border: none' /></a></noscript><object class='tableauViz'  style='display:none;'><param name='host_url' value='https%3A%2F%2Fpublic.tableau.com%2F' /> <param name='embed_code_version' value='3' /> <param name='site_root' value='' /><param name='name' value='ALAnoodALHenaki-FlightDelays&#47;Story1' /><param name='tabs' value='no' /><param name='toolbar' value='yes' /><param name='static_image' value='https:&#47;&#47;public.tableau.com&#47;static&#47;images&#47;AL&#47;ALAnoodALHenaki-FlightDelays&#47;Story1&#47;1.png' /> <param name='animate_transition' value='yes' /><param name='display_static_image' value='yes' /><param name='display_spinner' value='yes' /><param name='display_overlay' value='yes' /><param name='display_count' value='yes' /></object></div>                <script type='text/javascript'>                    var divElement = document.getElementById('viz1571069617714');                    var vizElement = divElement.getElementsByTagName('object')[0];                    vizElement.style.width='1016px';vizElement.style.height='991px';                    var scriptElement = document.createElement('script');                    scriptElement.src = 'https://public.tableau.com/javascripts/api/viz_v1.js';                    vizElement.parentNode.insertBefore(scriptElement, vizElement);                </script>\n"
      ],
      "text/plain": [
       "<IPython.core.display.HTML object>"
      ]
     },
     "metadata": {},
     "output_type": "display_data"
    }
   ],
   "source": [
    "%%HTML\n",
    "<div class='tableauPlaceholder' id='viz1571069617714' style='position: relative'><noscript><a href='#'><img alt=' ' src='https:&#47;&#47;public.tableau.com&#47;static&#47;images&#47;AL&#47;ALAnoodALHenaki-FlightDelays&#47;Story1&#47;1_rss.png' style='border: none' /></a></noscript><object class='tableauViz'  style='display:none;'><param name='host_url' value='https%3A%2F%2Fpublic.tableau.com%2F' /> <param name='embed_code_version' value='3' /> <param name='site_root' value='' /><param name='name' value='ALAnoodALHenaki-FlightDelays&#47;Story1' /><param name='tabs' value='no' /><param name='toolbar' value='yes' /><param name='static_image' value='https:&#47;&#47;public.tableau.com&#47;static&#47;images&#47;AL&#47;ALAnoodALHenaki-FlightDelays&#47;Story1&#47;1.png' /> <param name='animate_transition' value='yes' /><param name='display_static_image' value='yes' /><param name='display_spinner' value='yes' /><param name='display_overlay' value='yes' /><param name='display_count' value='yes' /></object></div>                <script type='text/javascript'>                    var divElement = document.getElementById('viz1571069617714');                    var vizElement = divElement.getElementsByTagName('object')[0];                    vizElement.style.width='1016px';vizElement.style.height='991px';                    var scriptElement = document.createElement('script');                    scriptElement.src = 'https://public.tableau.com/javascripts/api/viz_v1.js';    vizElement.parentNode.insertBefore(scriptElement, vizElement);      </script>"
   ]
  },
  {
   "cell_type": "markdown",
   "metadata": {},
   "source": [
    "Insight one:\n",
    "From the map, we could see that Taxes (661) and Illinois (537) are the top states with the most\n",
    "cancelation flights in 2015 and then subsequently came California (411) on third while Florida\n",
    "(232) and Georgia (144) ranked fourth and fifth."
   ]
  },
  {
   "cell_type": "markdown",
   "metadata": {},
   "source": [
    "Insight Two:\n",
    "Within the top five states in cancelation, the Southwest Airlines dominated the list by having\n",
    "446 cancellation flights in 2015, surpassing American Eagle Airline by 24 flights cancelation,\n",
    "which ranked second in the list by canceling 422 flights in the same year."
   ]
  },
  {
   "cell_type": "markdown",
   "metadata": {},
   "source": [
    "Insight Three:\n",
    "Within the top five states in cancelation, most flights got canceled due to the weather, which\n",
    "resulted in 1,211 flights to get canceled in 2015. The second reason was due to the airline\n",
    "/carrier itself causing 680 flights to get canceled in the same year while other 349 flights got\n",
    "stopped in 2015 due to the national air System according to the presented data."
   ]
  },
  {
   "cell_type": "markdown",
   "metadata": {},
   "source": [
    "Insight 4\n",
    "Within the top five states in cancelation, and detailing more from insight 2, we could clearly see\n",
    "what initiated the top airline in cancelation to cancel its flights in 2015. Since the Southwest\n",
    "Airlines dominated the list by having 446 flight cancelations in 2015, 196 out of 446 flights got\n",
    "cancelled due to weather which is the leading reason with Southwest Airline, then there were\n",
    "43 cancelation flights due to National Air System, and finally, there were 207 cancelations\n",
    "flights that caused by the Airline itself."
   ]
  }
 ],
 "metadata": {
  "kernelspec": {
   "display_name": "Python 3",
   "language": "python",
   "name": "python3"
  },
  "language_info": {
   "codemirror_mode": {
    "name": "ipython",
    "version": 3
   },
   "file_extension": ".py",
   "mimetype": "text/x-python",
   "name": "python",
   "nbconvert_exporter": "python",
   "pygments_lexer": "ipython3",
   "version": "3.7.3"
  }
 },
 "nbformat": 4,
 "nbformat_minor": 2
}
